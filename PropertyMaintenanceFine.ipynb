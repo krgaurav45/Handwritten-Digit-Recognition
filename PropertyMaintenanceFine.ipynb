{
 "cells": [
  {
   "cell_type": "markdown",
   "metadata": {
    "colab_type": "text",
    "id": "X7nPz2a-9_pR"
   },
   "source": [
    "## Understanding and Predicting Property Maintenance Fines\n",
    "\n",
    "The Michigan Data Science Team ([MDST](http://midas.umich.edu/mdst/)) and the Michigan Student Symposium for Interdisciplinary Statistical Sciences ([MSSISS](https://sites.lsa.umich.edu/mssiss/)) have partnered with the City of Detroit to help solve one of the most pressing problems facing Detroit - blight. [Blight violations](http://www.detroitmi.gov/How-Do-I/Report/Blight-Complaint-FAQs) are issued by the city to individuals who allow their properties to remain in a deteriorated condition. Every year, the city of Detroit issues millions of dollars in fines to residents and every year, many of these fines remain unpaid. Enforcing unpaid blight fines is a costly and tedious process, so the city wants to know: how can we increase blight ticket compliance?\n",
    "\n",
    "The first step in answering this question is understanding when and why a resident might fail to comply with a blight ticket. This is where predictive modeling comes in. For this assignment, your task is to predict whether a given blight ticket will be paid on time.\n",
    "\n",
    "All data for this assignment has been provided to us through the [Detroit Open Data Portal](https://data.detroitmi.gov/). \n",
    "\n",
    "We provide you with two data files for use in training and validating your models: train.csv and test.csv. Each row in these two files corresponds to a single blight ticket, and includes information about when, why, and to whom each ticket was issued. The target variable is compliance, which is True if the ticket was paid early, on time, or within one month of the hearing data, False if the ticket was paid after the hearing date or not at all, and Null if the violator was found not responsible. Compliance, as well as a handful of other variables that will not be available at test-time, are only included in train.csv.\n",
    "\n",
    "Note: All tickets where the violators were found not responsible are not considered during evaluation. They are included in the training set as an additional source of data for visualization, and to enable unsupervised and semi-supervised approaches. However, they are not included in the test set.\n",
    "\n",
    "<br>\n",
    "\n",
    "**File descriptions** (Use only this data for training your model!)\n",
    "\n",
    "    train.csv - the training set (all tickets issued 2004-2011)\n",
    "    test.csv - the test set (all tickets issued 2012-2016)\n",
    "<br>\n",
    "\n",
    "**Data fields**\n",
    "\n",
    "train.csv & test.csv\n",
    "\n",
    "    ticket_id - unique identifier for tickets\n",
    "    agency_name - Agency that issued the ticket\n",
    "    inspector_name - Name of inspector that issued the ticket\n",
    "    violator_name - Name of the person/organization that the ticket was issued to\n",
    "    violation_street_number, violation_street_name, violation_zip_code - Address where the violation occurred\n",
    "    mailing_address_str_number, mailing_address_str_name, city, state, zip_code, non_us_str_code, country - Mailing address of the violator\n",
    "    ticket_issued_date - Date and time the ticket was issued\n",
    "    hearing_date - Date and time the violator's hearing was scheduled\n",
    "    violation_code, violation_description - Type of violation\n",
    "    disposition - Judgment and judgement type\n",
    "    fine_amount - Violation fine amount, excluding fees\n",
    "    admin_fee - $20 fee assigned to responsible judgments\n",
    "state_fee - $10 fee assigned to responsible judgments\n",
    "    late_fee - 10% fee assigned to responsible judgments\n",
    "    discount_amount - discount applied, if any\n",
    "    clean_up_cost - DPW clean-up or graffiti removal cost\n",
    "    judgment_amount - Sum of all fines and fees\n",
    "    grafitti_status - Flag for graffiti violations\n",
    "    \n",
    "train.csv only\n",
    "\n",
    "    payment_amount - Amount paid, if any\n",
    "    payment_date - Date payment was made, if it was received\n",
    "    payment_status - Current payment status as of Feb 1 2017\n",
    "    balance_due - Fines and fees still owed\n",
    "    collection_status - Flag for payments in collections\n",
    "    compliance [target variable for prediction] \n",
    "     Null = Not responsible\n",
    "     0 = Responsible, non-compliant\n",
    "     1 = Responsible, compliant\n",
    "    compliance_detail - More information on why each ticket was marked compliant or non-compliant\n",
    "\n",
    "\n",
    "___\n",
    "\n",
    "## Evaluation\n",
    "\n",
    "Your predictions will be given as the probability that the corresponding blight ticket will be paid on time.\n",
    "\n",
    "The evaluation metric chosen for this problem is the Area Under the ROC Curve (AUC). \n",
    "\n",
    "Example:\n",
    "\n",
    "    ticket_id\n",
    "       284932    0.531842\n",
    "       285362    0.401958\n",
    "       285361    0.105928\n",
    "       285338    0.018572\n",
    "                 ...\n",
    "       376499    0.208567\n",
    "       376500    0.818759\n",
    "       369851    0.018528\n",
    "       Name: compliance, dtype: float32"
   ]
  },
  {
   "cell_type": "code",
   "execution_count": 1,
   "metadata": {},
   "outputs": [],
   "source": [
    "import pandas as pd\n",
    "import numpy as np\n",
    "import math\n",
    "import matplotlib.pyplot as plt\n",
    "%matplotlib inline\n",
    "from sklearn.ensemble import RandomForestClassifier\n",
    "from sklearn.model_selection import train_test_split\n",
    "from sklearn.metrics import roc_auc_score\n",
    "from sklearn.metrics import roc_curve, auc\n",
    "from sklearn.metrics import confusion_matrix\n",
    "from sklearn.metrics import ConfusionMatrixDisplay\n",
    "from sklearn.preprocessing import LabelEncoder\n",
    "from sklearn.model_selection import GridSearchCV\n",
    "import re\n",
    "from scipy.sparse import hstack\n",
    "import seaborn as sns\n",
    "from tqdm import tqdm\n",
    "from sklearn.feature_extraction.text import TfidfVectorizer,CountVectorizer\n",
    "from sklearn.preprocessing import Normalizer"
   ]
  },
  {
   "cell_type": "code",
   "execution_count": 33,
   "metadata": {},
   "outputs": [
    {
     "name": "stderr",
     "output_type": "stream",
     "text": [
      "F:\\Anaconda\\lib\\site-packages\\IPython\\core\\interactiveshell.py:3063: DtypeWarning: Columns (11,12,31) have mixed types.Specify dtype option on import or set low_memory=False.\n",
      "  interactivity=interactivity, compiler=compiler, result=result)\n"
     ]
    },
    {
     "name": "stdout",
     "output_type": "stream",
     "text": [
      "Number of data points in train data (250306, 34)\n"
     ]
    }
   ],
   "source": [
    "df_train = pd.read_csv('train.csv',encoding = \"ISO-8859-1\")\n",
    "df_test = pd.read_csv('test.csv')\n",
    "print(\"Number of data points in train data\", df_train.shape)"
   ]
  },
  {
   "cell_type": "code",
   "execution_count": 34,
   "metadata": {},
   "outputs": [
    {
     "name": "stdout",
     "output_type": "stream",
     "text": [
      "The attributes of data : ['ticket_id' 'agency_name' 'inspector_name' 'violator_name'\n",
      " 'violation_street_number' 'violation_street_name' 'violation_zip_code'\n",
      " 'mailing_address_str_number' 'mailing_address_str_name' 'city' 'state'\n",
      " 'zip_code' 'non_us_str_code' 'country' 'ticket_issued_date'\n",
      " 'hearing_date' 'violation_code' 'violation_description' 'disposition'\n",
      " 'fine_amount' 'admin_fee' 'state_fee' 'late_fee' 'discount_amount'\n",
      " 'clean_up_cost' 'judgment_amount' 'payment_amount' 'balance_due'\n",
      " 'payment_date' 'payment_status' 'collection_status' 'grafitti_status'\n",
      " 'compliance_detail' 'compliance']\n"
     ]
    },
    {
     "data": {
      "text/html": [
       "<div>\n",
       "<style scoped>\n",
       "    .dataframe tbody tr th:only-of-type {\n",
       "        vertical-align: middle;\n",
       "    }\n",
       "\n",
       "    .dataframe tbody tr th {\n",
       "        vertical-align: top;\n",
       "    }\n",
       "\n",
       "    .dataframe thead th {\n",
       "        text-align: right;\n",
       "    }\n",
       "</style>\n",
       "<table border=\"1\" class=\"dataframe\">\n",
       "  <thead>\n",
       "    <tr style=\"text-align: right;\">\n",
       "      <th></th>\n",
       "      <th>ticket_id</th>\n",
       "      <th>agency_name</th>\n",
       "      <th>inspector_name</th>\n",
       "      <th>violator_name</th>\n",
       "      <th>violation_street_number</th>\n",
       "      <th>violation_street_name</th>\n",
       "      <th>violation_zip_code</th>\n",
       "      <th>mailing_address_str_number</th>\n",
       "      <th>mailing_address_str_name</th>\n",
       "      <th>city</th>\n",
       "      <th>...</th>\n",
       "      <th>clean_up_cost</th>\n",
       "      <th>judgment_amount</th>\n",
       "      <th>payment_amount</th>\n",
       "      <th>balance_due</th>\n",
       "      <th>payment_date</th>\n",
       "      <th>payment_status</th>\n",
       "      <th>collection_status</th>\n",
       "      <th>grafitti_status</th>\n",
       "      <th>compliance_detail</th>\n",
       "      <th>compliance</th>\n",
       "    </tr>\n",
       "  </thead>\n",
       "  <tbody>\n",
       "    <tr>\n",
       "      <th>0</th>\n",
       "      <td>22056</td>\n",
       "      <td>Buildings, Safety Engineering &amp; Env Department</td>\n",
       "      <td>Sims, Martinzie</td>\n",
       "      <td>INVESTMENT INC., MIDWEST MORTGAGE</td>\n",
       "      <td>2900.0</td>\n",
       "      <td>TYLER</td>\n",
       "      <td>NaN</td>\n",
       "      <td>3.0</td>\n",
       "      <td>S. WICKER</td>\n",
       "      <td>CHICAGO</td>\n",
       "      <td>...</td>\n",
       "      <td>0.0</td>\n",
       "      <td>305.0</td>\n",
       "      <td>0.0</td>\n",
       "      <td>305.0</td>\n",
       "      <td>NaN</td>\n",
       "      <td>NO PAYMENT APPLIED</td>\n",
       "      <td>NaN</td>\n",
       "      <td>NaN</td>\n",
       "      <td>non-compliant by no payment</td>\n",
       "      <td>0.0</td>\n",
       "    </tr>\n",
       "    <tr>\n",
       "      <th>1</th>\n",
       "      <td>27586</td>\n",
       "      <td>Buildings, Safety Engineering &amp; Env Department</td>\n",
       "      <td>Williams, Darrin</td>\n",
       "      <td>Michigan, Covenant House</td>\n",
       "      <td>4311.0</td>\n",
       "      <td>CENTRAL</td>\n",
       "      <td>NaN</td>\n",
       "      <td>2959.0</td>\n",
       "      <td>Martin Luther King</td>\n",
       "      <td>Detroit</td>\n",
       "      <td>...</td>\n",
       "      <td>0.0</td>\n",
       "      <td>855.0</td>\n",
       "      <td>780.0</td>\n",
       "      <td>75.0</td>\n",
       "      <td>2005-06-02 00:00:00</td>\n",
       "      <td>PAID IN FULL</td>\n",
       "      <td>NaN</td>\n",
       "      <td>NaN</td>\n",
       "      <td>compliant by late payment within 1 month</td>\n",
       "      <td>1.0</td>\n",
       "    </tr>\n",
       "  </tbody>\n",
       "</table>\n",
       "<p>2 rows × 34 columns</p>\n",
       "</div>"
      ],
      "text/plain": [
       "   ticket_id                                     agency_name  \\\n",
       "0      22056  Buildings, Safety Engineering & Env Department   \n",
       "1      27586  Buildings, Safety Engineering & Env Department   \n",
       "\n",
       "     inspector_name                      violator_name  \\\n",
       "0   Sims, Martinzie  INVESTMENT INC., MIDWEST MORTGAGE   \n",
       "1  Williams, Darrin           Michigan, Covenant House   \n",
       "\n",
       "   violation_street_number violation_street_name  violation_zip_code  \\\n",
       "0                   2900.0                 TYLER                 NaN   \n",
       "1                   4311.0               CENTRAL                 NaN   \n",
       "\n",
       "   mailing_address_str_number mailing_address_str_name     city  ...  \\\n",
       "0                         3.0                S. WICKER  CHICAGO  ...   \n",
       "1                      2959.0       Martin Luther King  Detroit  ...   \n",
       "\n",
       "  clean_up_cost judgment_amount payment_amount balance_due  \\\n",
       "0           0.0           305.0            0.0       305.0   \n",
       "1           0.0           855.0          780.0        75.0   \n",
       "\n",
       "          payment_date      payment_status collection_status grafitti_status  \\\n",
       "0                  NaN  NO PAYMENT APPLIED               NaN             NaN   \n",
       "1  2005-06-02 00:00:00        PAID IN FULL               NaN             NaN   \n",
       "\n",
       "                          compliance_detail  compliance  \n",
       "0               non-compliant by no payment         0.0  \n",
       "1  compliant by late payment within 1 month         1.0  \n",
       "\n",
       "[2 rows x 34 columns]"
      ]
     },
     "execution_count": 34,
     "metadata": {},
     "output_type": "execute_result"
    }
   ],
   "source": [
    "print(\"The attributes of data :\", df_train.columns.values)\n",
    "df_train.head(2)"
   ]
  },
  {
   "cell_type": "code",
   "execution_count": 35,
   "metadata": {},
   "outputs": [
    {
     "name": "stdout",
     "output_type": "stream",
     "text": [
      "The attributes of data : ['ticket_id' 'agency_name' 'inspector_name' 'violator_name'\n",
      " 'violation_street_number' 'violation_street_name' 'violation_zip_code'\n",
      " 'mailing_address_str_number' 'mailing_address_str_name' 'city' 'state'\n",
      " 'zip_code' 'non_us_str_code' 'country' 'ticket_issued_date'\n",
      " 'hearing_date' 'violation_code' 'violation_description' 'disposition'\n",
      " 'fine_amount' 'admin_fee' 'state_fee' 'late_fee' 'discount_amount'\n",
      " 'clean_up_cost' 'judgment_amount' 'grafitti_status']\n"
     ]
    },
    {
     "data": {
      "text/html": [
       "<div>\n",
       "<style scoped>\n",
       "    .dataframe tbody tr th:only-of-type {\n",
       "        vertical-align: middle;\n",
       "    }\n",
       "\n",
       "    .dataframe tbody tr th {\n",
       "        vertical-align: top;\n",
       "    }\n",
       "\n",
       "    .dataframe thead th {\n",
       "        text-align: right;\n",
       "    }\n",
       "</style>\n",
       "<table border=\"1\" class=\"dataframe\">\n",
       "  <thead>\n",
       "    <tr style=\"text-align: right;\">\n",
       "      <th></th>\n",
       "      <th>ticket_id</th>\n",
       "      <th>agency_name</th>\n",
       "      <th>inspector_name</th>\n",
       "      <th>violator_name</th>\n",
       "      <th>violation_street_number</th>\n",
       "      <th>violation_street_name</th>\n",
       "      <th>violation_zip_code</th>\n",
       "      <th>mailing_address_str_number</th>\n",
       "      <th>mailing_address_str_name</th>\n",
       "      <th>city</th>\n",
       "      <th>...</th>\n",
       "      <th>violation_description</th>\n",
       "      <th>disposition</th>\n",
       "      <th>fine_amount</th>\n",
       "      <th>admin_fee</th>\n",
       "      <th>state_fee</th>\n",
       "      <th>late_fee</th>\n",
       "      <th>discount_amount</th>\n",
       "      <th>clean_up_cost</th>\n",
       "      <th>judgment_amount</th>\n",
       "      <th>grafitti_status</th>\n",
       "    </tr>\n",
       "  </thead>\n",
       "  <tbody>\n",
       "    <tr>\n",
       "      <th>0</th>\n",
       "      <td>284932</td>\n",
       "      <td>Department of Public Works</td>\n",
       "      <td>Granberry, Aisha B</td>\n",
       "      <td>FLUELLEN, JOHN A</td>\n",
       "      <td>10041.0</td>\n",
       "      <td>ROSEBERRY</td>\n",
       "      <td>NaN</td>\n",
       "      <td>141</td>\n",
       "      <td>ROSEBERRY</td>\n",
       "      <td>DETROIT</td>\n",
       "      <td>...</td>\n",
       "      <td>Failure to secure City or Private solid waste ...</td>\n",
       "      <td>Responsible by Default</td>\n",
       "      <td>200.0</td>\n",
       "      <td>20.0</td>\n",
       "      <td>10.0</td>\n",
       "      <td>20.0</td>\n",
       "      <td>0.0</td>\n",
       "      <td>0.0</td>\n",
       "      <td>250.0</td>\n",
       "      <td>NaN</td>\n",
       "    </tr>\n",
       "    <tr>\n",
       "      <th>1</th>\n",
       "      <td>285362</td>\n",
       "      <td>Department of Public Works</td>\n",
       "      <td>Lusk, Gertrina</td>\n",
       "      <td>WHIGHAM, THELMA</td>\n",
       "      <td>18520.0</td>\n",
       "      <td>EVERGREEN</td>\n",
       "      <td>NaN</td>\n",
       "      <td>19136</td>\n",
       "      <td>GLASTONBURY</td>\n",
       "      <td>DETROIT</td>\n",
       "      <td>...</td>\n",
       "      <td>Allowing bulk solid waste to lie or accumulate...</td>\n",
       "      <td>Responsible by Default</td>\n",
       "      <td>1000.0</td>\n",
       "      <td>20.0</td>\n",
       "      <td>10.0</td>\n",
       "      <td>100.0</td>\n",
       "      <td>0.0</td>\n",
       "      <td>0.0</td>\n",
       "      <td>1130.0</td>\n",
       "      <td>NaN</td>\n",
       "    </tr>\n",
       "  </tbody>\n",
       "</table>\n",
       "<p>2 rows × 27 columns</p>\n",
       "</div>"
      ],
      "text/plain": [
       "   ticket_id                 agency_name      inspector_name  \\\n",
       "0     284932  Department of Public Works  Granberry, Aisha B   \n",
       "1     285362  Department of Public Works      Lusk, Gertrina   \n",
       "\n",
       "      violator_name  violation_street_number violation_street_name  \\\n",
       "0  FLUELLEN, JOHN A                  10041.0             ROSEBERRY   \n",
       "1   WHIGHAM, THELMA                  18520.0             EVERGREEN   \n",
       "\n",
       "  violation_zip_code mailing_address_str_number mailing_address_str_name  \\\n",
       "0                NaN                        141                ROSEBERRY   \n",
       "1                NaN                      19136              GLASTONBURY   \n",
       "\n",
       "      city  ...                              violation_description  \\\n",
       "0  DETROIT  ...  Failure to secure City or Private solid waste ...   \n",
       "1  DETROIT  ...  Allowing bulk solid waste to lie or accumulate...   \n",
       "\n",
       "              disposition  fine_amount admin_fee state_fee late_fee  \\\n",
       "0  Responsible by Default        200.0      20.0      10.0     20.0   \n",
       "1  Responsible by Default       1000.0      20.0      10.0    100.0   \n",
       "\n",
       "  discount_amount clean_up_cost judgment_amount  grafitti_status  \n",
       "0             0.0           0.0           250.0              NaN  \n",
       "1             0.0           0.0          1130.0              NaN  \n",
       "\n",
       "[2 rows x 27 columns]"
      ]
     },
     "execution_count": 35,
     "metadata": {},
     "output_type": "execute_result"
    }
   ],
   "source": [
    "print(\"The attributes of data :\", df_test.columns.values)\n",
    "df_test.head(2)"
   ]
  },
  {
   "cell_type": "markdown",
   "metadata": {},
   "source": [
    "### Data Wrangling"
   ]
  },
  {
   "cell_type": "code",
   "execution_count": 36,
   "metadata": {},
   "outputs": [
    {
     "data": {
      "text/plain": [
       "90426"
      ]
     },
     "execution_count": 36,
     "metadata": {},
     "output_type": "execute_result"
    }
   ],
   "source": [
    "df_train['compliance'].isnull().sum()"
   ]
  },
  {
   "cell_type": "code",
   "execution_count": 37,
   "metadata": {},
   "outputs": [
    {
     "data": {
      "text/plain": [
       "ticket_id                          0\n",
       "agency_name                        0\n",
       "inspector_name                     0\n",
       "violator_name                     26\n",
       "violation_street_number            0\n",
       "violation_street_name              0\n",
       "violation_zip_code            159880\n",
       "mailing_address_str_number      2558\n",
       "mailing_address_str_name           3\n",
       "city                               0\n",
       "state                             84\n",
       "zip_code                           1\n",
       "non_us_str_code               159877\n",
       "country                            0\n",
       "ticket_issued_date                 0\n",
       "hearing_date                     227\n",
       "violation_code                     0\n",
       "violation_description              0\n",
       "disposition                        0\n",
       "fine_amount                        0\n",
       "admin_fee                          0\n",
       "state_fee                          0\n",
       "late_fee                           0\n",
       "discount_amount                    0\n",
       "clean_up_cost                      0\n",
       "judgment_amount                    0\n",
       "grafitti_status               159880\n",
       "compliance                         0\n",
       "dtype: int64"
      ]
     },
     "execution_count": 37,
     "metadata": {},
     "output_type": "execute_result"
    }
   ],
   "source": [
    "X = df_train[df_train['compliance'].isnull()==False]\n",
    "X_test = df_train[df_train['compliance'].isnull()==True]\n",
    "# y_train = df_train[df_train['compliance'].isnull()==False].compliance\n",
    "features = np.append(df_test.columns.values,['compliance'])\n",
    "X = X[features]\n",
    "X_test = X_test[features]\n",
    "X.isnull().sum()"
   ]
  },
  {
   "cell_type": "code",
   "execution_count": 38,
   "metadata": {},
   "outputs": [],
   "source": [
    "# plt.box(on=X['mailing_address_str_name'])\n",
    "# plt.show()"
   ]
  },
  {
   "cell_type": "code",
   "execution_count": 39,
   "metadata": {},
   "outputs": [
    {
     "data": {
      "text/plain": [
       "agency_name                   0\n",
       "inspector_name                0\n",
       "violation_street_number       0\n",
       "violation_street_name         0\n",
       "mailing_address_str_number    0\n",
       "mailing_address_str_name      0\n",
       "city                          0\n",
       "state                         0\n",
       "country                       0\n",
       "violation_code                0\n",
       "violation_description         0\n",
       "disposition                   0\n",
       "fine_amount                   0\n",
       "admin_fee                     0\n",
       "state_fee                     0\n",
       "late_fee                      0\n",
       "discount_amount               0\n",
       "clean_up_cost                 0\n",
       "judgment_amount               0\n",
       "compliance                    0\n",
       "dtype: int64"
      ]
     },
     "execution_count": 39,
     "metadata": {},
     "output_type": "execute_result"
    }
   ],
   "source": [
    "X = X.drop(labels=['zip_code','ticket_id','ticket_issued_date','violation_zip_code','grafitti_status','non_us_str_code','violator_name','hearing_date'],axis=1)\n",
    "X = X[X['mailing_address_str_name'].isnull()==False]\n",
    "X.mailing_address_str_number.fillna(value=np.random.choice(X.mailing_address_str_number.values),inplace=True)\n",
    "X.state.fillna(value=X.state.value_counts().keys()[0],inplace=True)\n",
    "X.isnull().sum()"
   ]
  },
  {
   "cell_type": "code",
   "execution_count": 26,
   "metadata": {},
   "outputs": [],
   "source": [
    "def preprocess_feat(data):\n",
    "    l = []\n",
    "    for text in data:\n",
    "        text = text.lower()\n",
    "        text = text.replace('/','')\n",
    "        text = text.replace(' ','_')\n",
    "        text = text.replace('_','_')\n",
    "        text = text.replace('.','')\n",
    "        text = text.replace('&','_')\n",
    "        text = text.replace('(','_')\n",
    "        text = text.replace(')','_')\n",
    "        text = text.replace(',','_')\n",
    "        text = text.replace(' The ','')\n",
    "        text = text.replace(';','')\n",
    "        text = text.replace('-','')\n",
    "        l.append(text)\n",
    "    return l"
   ]
  },
  {
   "cell_type": "code",
   "execution_count": 27,
   "metadata": {},
   "outputs": [],
   "source": [
    "def decontracted(phrase):\n",
    "    # specific\n",
    "    phrase = re.sub(r\"won't\", \"will not\", phrase)\n",
    "    phrase = re.sub(r\"can\\'t\", \"can not\", phrase)\n",
    "\n",
    "    # general\n",
    "    phrase = re.sub(r\"n\\'t\", \" not\", phrase)\n",
    "    phrase = re.sub(r\"\\'re\", \" are\", phrase)\n",
    "    phrase = re.sub(r\"\\'s\", \" is\", phrase)\n",
    "    phrase = re.sub(r\"\\'d\", \" would\", phrase)\n",
    "    phrase = re.sub(r\"\\'ll\", \" will\", phrase)\n",
    "    phrase = re.sub(r\"\\'t\", \" not\", phrase)\n",
    "    phrase = re.sub(r\"\\'ve\", \" have\", phrase)\n",
    "    phrase = re.sub(r\"\\'m\", \" am\", phrase)\n",
    "    return phrase\n",
    "\n",
    "# we are removing the words from the stop words list: 'no', 'nor', 'not'\n",
    "stopwords= ['i', 'me', 'my', 'myself', 'we', 'our', 'ours', 'ourselves', 'you', \"you're\", \"you've\",\\\n",
    "            \"you'll\", \"you'd\", 'your', 'yours', 'yourself', 'yourselves', 'he', 'him', 'his', 'himself', \\\n",
    "            'she', \"she's\", 'her', 'hers', 'herself', 'it', \"it's\", 'its', 'itself', 'they', 'them', 'their',\\\n",
    "            'theirs', 'themselves', 'what', 'which', 'who', 'whom', 'this', 'that', \"that'll\", 'these', 'those', \\\n",
    "            'am', 'is', 'are', 'was', 'were', 'be', 'been', 'being', 'have', 'has', 'had', 'having', 'do', 'does', \\\n",
    "            'did', 'doing', 'a', 'an', 'the', 'and', 'but', 'if', 'or', 'because', 'as', 'until', 'while', 'of', \\\n",
    "            'at', 'by', 'for', 'with', 'about', 'against', 'between', 'into', 'through', 'during', 'before', 'after',\\\n",
    "            'above', 'below', 'to', 'from', 'up', 'down', 'in', 'out', 'on', 'off', 'over', 'under', 'again', 'further',\\\n",
    "            'then', 'once', 'here', 'there', 'when', 'where', 'why', 'how', 'all', 'any', 'both', 'each', 'few', 'more',\\\n",
    "            'most', 'other', 'some', 'such', 'only', 'own', 'same', 'so', 'than', 'too', 'very', \\\n",
    "            's', 't', 'can', 'will', 'just', 'don', \"don't\", 'should', \"should've\", 'now', 'd', 'll', 'm', 'o', 're', \\\n",
    "            've', 'y', 'ain', 'aren', \"aren't\", 'couldn', \"couldn't\", 'didn', \"didn't\", 'doesn', \"doesn't\", 'hadn',\\\n",
    "            \"hadn't\", 'hasn', \"hasn't\", 'haven', \"haven't\", 'isn', \"isn't\", 'ma', 'mightn', \"mightn't\", 'mustn',\\\n",
    "            \"mustn't\", 'needn', \"needn't\", 'shan', \"shan't\", 'shouldn', \"shouldn't\", 'wasn', \"wasn't\", 'weren', \"weren't\", \\\n",
    "            'won', \"won't\", 'wouldn', \"wouldn't\"]\n",
    "\n",
    "# Combining all the above stundents \n",
    "def preprocess_text(text_data):\n",
    "    preprocessed_text = []\n",
    "    # tqdm is for printing the status bar\n",
    "    for sentance in tqdm(text_data):\n",
    "        sent = decontracted(sentance)\n",
    "        sent = sent.replace('\\\\r', ' ')\n",
    "        sent = sent.replace('\\\\n', ' ')\n",
    "        sent = sent.replace('\\\\\"', ' ')\n",
    "        sent = re.sub('[^A-Za-z0-9]+', ' ', sent)\n",
    "        # https://gist.github.com/sebleier/554280\n",
    "        sent = ' '.join(e for e in sent.split() if e.lower() not in stopwords)\n",
    "        preprocessed_text.append(sent.lower().strip())\n",
    "    return preprocessed_text"
   ]
  },
  {
   "cell_type": "code",
   "execution_count": 40,
   "metadata": {},
   "outputs": [
    {
     "name": "stdout",
     "output_type": "stream",
     "text": [
      "['state', 'violation_description', 'city', 'country', 'violation_code', 'violation_street_name', 'inspector_name', 'disposition', 'agency_name', 'mailing_address_str_name']\n",
      "['violation_street_number', 'mailing_address_str_number', 'fine_amount', 'admin_fee', 'state_fee', 'late_fee', 'discount_amount', 'clean_up_cost', 'judgment_amount']\n"
     ]
    }
   ],
   "source": [
    "num_feat = ['violation_street_number', 'mailing_address_str_number', 'fine_amount', 'admin_fee', 'state_fee', 'late_fee', 'discount_amount',\n",
    "            'clean_up_cost', 'judgment_amount']\n",
    "cat_feat = ['state' ,'violation_description' ,'city', 'country','violation_code' ,'violation_street_name', 'inspector_name',\n",
    "            'disposition', 'agency_name', 'mailing_address_str_name']\n",
    "print(cat_feat)\n",
    "print(num_feat)"
   ]
  },
  {
   "cell_type": "code",
   "execution_count": 41,
   "metadata": {},
   "outputs": [
    {
     "name": "stderr",
     "output_type": "stream",
     "text": [
      "100%|███████████████████████████████████████████████████████████████████████████████████████████████████████████████████████| 159877/159877 [00:11<00:00, 14119.84it/s]\n"
     ]
    }
   ],
   "source": [
    "for f in cat_feat:\n",
    "    if f != 'violation_description':\n",
    "        X[f] = preprocess_feat(X[f])\n",
    "X['violation_description'] = preprocess_text(X['violation_description'])"
   ]
  },
  {
   "cell_type": "code",
   "execution_count": 42,
   "metadata": {},
   "outputs": [
    {
     "data": {
      "text/html": [
       "<div>\n",
       "<style scoped>\n",
       "    .dataframe tbody tr th:only-of-type {\n",
       "        vertical-align: middle;\n",
       "    }\n",
       "\n",
       "    .dataframe tbody tr th {\n",
       "        vertical-align: top;\n",
       "    }\n",
       "\n",
       "    .dataframe thead th {\n",
       "        text-align: right;\n",
       "    }\n",
       "</style>\n",
       "<table border=\"1\" class=\"dataframe\">\n",
       "  <thead>\n",
       "    <tr style=\"text-align: right;\">\n",
       "      <th></th>\n",
       "      <th>agency_name</th>\n",
       "      <th>inspector_name</th>\n",
       "      <th>violation_street_number</th>\n",
       "      <th>violation_street_name</th>\n",
       "      <th>mailing_address_str_number</th>\n",
       "      <th>mailing_address_str_name</th>\n",
       "      <th>city</th>\n",
       "      <th>state</th>\n",
       "      <th>country</th>\n",
       "      <th>violation_code</th>\n",
       "      <th>violation_description</th>\n",
       "      <th>disposition</th>\n",
       "      <th>fine_amount</th>\n",
       "      <th>admin_fee</th>\n",
       "      <th>state_fee</th>\n",
       "      <th>late_fee</th>\n",
       "      <th>discount_amount</th>\n",
       "      <th>clean_up_cost</th>\n",
       "      <th>judgment_amount</th>\n",
       "      <th>compliance</th>\n",
       "    </tr>\n",
       "  </thead>\n",
       "  <tbody>\n",
       "    <tr>\n",
       "      <th>0</th>\n",
       "      <td>buildings__safety_engineering___env_department</td>\n",
       "      <td>sims__martinzie</td>\n",
       "      <td>2900.0</td>\n",
       "      <td>tyler</td>\n",
       "      <td>3.0</td>\n",
       "      <td>s_wicker</td>\n",
       "      <td>chicago</td>\n",
       "      <td>il</td>\n",
       "      <td>usa</td>\n",
       "      <td>9136_a_</td>\n",
       "      <td>failure owner obtain certificate compliance</td>\n",
       "      <td>responsible_by_default</td>\n",
       "      <td>250.0</td>\n",
       "      <td>20.0</td>\n",
       "      <td>10.0</td>\n",
       "      <td>25.0</td>\n",
       "      <td>0.0</td>\n",
       "      <td>0.0</td>\n",
       "      <td>305.0</td>\n",
       "      <td>0.0</td>\n",
       "    </tr>\n",
       "    <tr>\n",
       "      <th>1</th>\n",
       "      <td>buildings__safety_engineering___env_department</td>\n",
       "      <td>williams__darrin</td>\n",
       "      <td>4311.0</td>\n",
       "      <td>central</td>\n",
       "      <td>2959.0</td>\n",
       "      <td>martin_luther_king</td>\n",
       "      <td>detroit</td>\n",
       "      <td>mi</td>\n",
       "      <td>usa</td>\n",
       "      <td>61630600</td>\n",
       "      <td>failed secure permit lawful use building</td>\n",
       "      <td>responsible_by_determination</td>\n",
       "      <td>750.0</td>\n",
       "      <td>20.0</td>\n",
       "      <td>10.0</td>\n",
       "      <td>75.0</td>\n",
       "      <td>0.0</td>\n",
       "      <td>0.0</td>\n",
       "      <td>855.0</td>\n",
       "      <td>1.0</td>\n",
       "    </tr>\n",
       "    <tr>\n",
       "      <th>5</th>\n",
       "      <td>buildings__safety_engineering___env_department</td>\n",
       "      <td>sims__martinzie</td>\n",
       "      <td>6478.0</td>\n",
       "      <td>northfield</td>\n",
       "      <td>2755.0</td>\n",
       "      <td>e_17th</td>\n",
       "      <td>log_beach</td>\n",
       "      <td>ca</td>\n",
       "      <td>usa</td>\n",
       "      <td>9136_a_</td>\n",
       "      <td>failure owner obtain certificate compliance</td>\n",
       "      <td>responsible_by_default</td>\n",
       "      <td>250.0</td>\n",
       "      <td>20.0</td>\n",
       "      <td>10.0</td>\n",
       "      <td>25.0</td>\n",
       "      <td>0.0</td>\n",
       "      <td>0.0</td>\n",
       "      <td>305.0</td>\n",
       "      <td>0.0</td>\n",
       "    </tr>\n",
       "    <tr>\n",
       "      <th>6</th>\n",
       "      <td>buildings__safety_engineering___env_department</td>\n",
       "      <td>williams__darrin</td>\n",
       "      <td>8027.0</td>\n",
       "      <td>brentwood</td>\n",
       "      <td>476.0</td>\n",
       "      <td>garfield</td>\n",
       "      <td>clinton</td>\n",
       "      <td>mi</td>\n",
       "      <td>usa</td>\n",
       "      <td>61630500</td>\n",
       "      <td>failed secure permit lawful use land</td>\n",
       "      <td>responsible_by_default</td>\n",
       "      <td>750.0</td>\n",
       "      <td>20.0</td>\n",
       "      <td>10.0</td>\n",
       "      <td>75.0</td>\n",
       "      <td>0.0</td>\n",
       "      <td>0.0</td>\n",
       "      <td>855.0</td>\n",
       "      <td>0.0</td>\n",
       "    </tr>\n",
       "    <tr>\n",
       "      <th>7</th>\n",
       "      <td>buildings__safety_engineering___env_department</td>\n",
       "      <td>williams__darrin</td>\n",
       "      <td>8228.0</td>\n",
       "      <td>mt_elliott</td>\n",
       "      <td>8228.0</td>\n",
       "      <td>mt_elliott</td>\n",
       "      <td>detroit</td>\n",
       "      <td>mi</td>\n",
       "      <td>usa</td>\n",
       "      <td>61630100</td>\n",
       "      <td>noncompliance grant condition bza bse</td>\n",
       "      <td>responsible_by_default</td>\n",
       "      <td>100.0</td>\n",
       "      <td>20.0</td>\n",
       "      <td>10.0</td>\n",
       "      <td>10.0</td>\n",
       "      <td>0.0</td>\n",
       "      <td>0.0</td>\n",
       "      <td>140.0</td>\n",
       "      <td>0.0</td>\n",
       "    </tr>\n",
       "  </tbody>\n",
       "</table>\n",
       "</div>"
      ],
      "text/plain": [
       "                                      agency_name    inspector_name  \\\n",
       "0  buildings__safety_engineering___env_department   sims__martinzie   \n",
       "1  buildings__safety_engineering___env_department  williams__darrin   \n",
       "5  buildings__safety_engineering___env_department   sims__martinzie   \n",
       "6  buildings__safety_engineering___env_department  williams__darrin   \n",
       "7  buildings__safety_engineering___env_department  williams__darrin   \n",
       "\n",
       "   violation_street_number violation_street_name  mailing_address_str_number  \\\n",
       "0                   2900.0                 tyler                         3.0   \n",
       "1                   4311.0               central                      2959.0   \n",
       "5                   6478.0            northfield                      2755.0   \n",
       "6                   8027.0             brentwood                       476.0   \n",
       "7                   8228.0            mt_elliott                      8228.0   \n",
       "\n",
       "  mailing_address_str_name       city state country violation_code  \\\n",
       "0                 s_wicker    chicago    il     usa        9136_a_   \n",
       "1       martin_luther_king    detroit    mi     usa       61630600   \n",
       "5                   e_17th  log_beach    ca     usa        9136_a_   \n",
       "6                 garfield    clinton    mi     usa       61630500   \n",
       "7               mt_elliott    detroit    mi     usa       61630100   \n",
       "\n",
       "                         violation_description                   disposition  \\\n",
       "0  failure owner obtain certificate compliance        responsible_by_default   \n",
       "1     failed secure permit lawful use building  responsible_by_determination   \n",
       "5  failure owner obtain certificate compliance        responsible_by_default   \n",
       "6         failed secure permit lawful use land        responsible_by_default   \n",
       "7        noncompliance grant condition bza bse        responsible_by_default   \n",
       "\n",
       "   fine_amount  admin_fee  state_fee  late_fee  discount_amount  \\\n",
       "0        250.0       20.0       10.0      25.0              0.0   \n",
       "1        750.0       20.0       10.0      75.0              0.0   \n",
       "5        250.0       20.0       10.0      25.0              0.0   \n",
       "6        750.0       20.0       10.0      75.0              0.0   \n",
       "7        100.0       20.0       10.0      10.0              0.0   \n",
       "\n",
       "   clean_up_cost  judgment_amount  compliance  \n",
       "0            0.0            305.0         0.0  \n",
       "1            0.0            855.0         1.0  \n",
       "5            0.0            305.0         0.0  \n",
       "6            0.0            855.0         0.0  \n",
       "7            0.0            140.0         0.0  "
      ]
     },
     "execution_count": 42,
     "metadata": {},
     "output_type": "execute_result"
    }
   ],
   "source": [
    "X.head()"
   ]
  },
  {
   "cell_type": "code",
   "execution_count": 43,
   "metadata": {},
   "outputs": [
    {
     "data": {
      "text/html": [
       "<div>\n",
       "<style scoped>\n",
       "    .dataframe tbody tr th:only-of-type {\n",
       "        vertical-align: middle;\n",
       "    }\n",
       "\n",
       "    .dataframe tbody tr th {\n",
       "        vertical-align: top;\n",
       "    }\n",
       "\n",
       "    .dataframe thead th {\n",
       "        text-align: right;\n",
       "    }\n",
       "</style>\n",
       "<table border=\"1\" class=\"dataframe\">\n",
       "  <thead>\n",
       "    <tr style=\"text-align: right;\">\n",
       "      <th></th>\n",
       "      <th>agency_name</th>\n",
       "      <th>inspector_name</th>\n",
       "      <th>violation_street_number</th>\n",
       "      <th>violation_street_name</th>\n",
       "      <th>mailing_address_str_number</th>\n",
       "      <th>mailing_address_str_name</th>\n",
       "      <th>city</th>\n",
       "      <th>state</th>\n",
       "      <th>country</th>\n",
       "      <th>violation_code</th>\n",
       "      <th>violation_description</th>\n",
       "      <th>disposition</th>\n",
       "      <th>fine_amount</th>\n",
       "      <th>admin_fee</th>\n",
       "      <th>state_fee</th>\n",
       "      <th>late_fee</th>\n",
       "      <th>discount_amount</th>\n",
       "      <th>clean_up_cost</th>\n",
       "      <th>judgment_amount</th>\n",
       "      <th>compliance</th>\n",
       "    </tr>\n",
       "    <tr>\n",
       "      <th>ticket_id</th>\n",
       "      <th></th>\n",
       "      <th></th>\n",
       "      <th></th>\n",
       "      <th></th>\n",
       "      <th></th>\n",
       "      <th></th>\n",
       "      <th></th>\n",
       "      <th></th>\n",
       "      <th></th>\n",
       "      <th></th>\n",
       "      <th></th>\n",
       "      <th></th>\n",
       "      <th></th>\n",
       "      <th></th>\n",
       "      <th></th>\n",
       "      <th></th>\n",
       "      <th></th>\n",
       "      <th></th>\n",
       "      <th></th>\n",
       "      <th></th>\n",
       "    </tr>\n",
       "  </thead>\n",
       "  <tbody>\n",
       "    <tr>\n",
       "      <th>22062</th>\n",
       "      <td>Buildings, Safety Engineering &amp; Env Department</td>\n",
       "      <td>Sims, Martinzie</td>\n",
       "      <td>1449.0</td>\n",
       "      <td>LONGFELLOW</td>\n",
       "      <td>23658.0</td>\n",
       "      <td>P.O. BOX</td>\n",
       "      <td>DETROIT</td>\n",
       "      <td>MI</td>\n",
       "      <td>USA</td>\n",
       "      <td>9-1-36(a)</td>\n",
       "      <td>Failure of owner to obtain certificate of comp...</td>\n",
       "      <td>Not responsible by Dismissal</td>\n",
       "      <td>250.0</td>\n",
       "      <td>0.0</td>\n",
       "      <td>0.0</td>\n",
       "      <td>0.0</td>\n",
       "      <td>0.0</td>\n",
       "      <td>0.0</td>\n",
       "      <td>0.0</td>\n",
       "      <td>NaN</td>\n",
       "    </tr>\n",
       "    <tr>\n",
       "      <th>22084</th>\n",
       "      <td>Buildings, Safety Engineering &amp; Env Department</td>\n",
       "      <td>Sims, Martinzie</td>\n",
       "      <td>1441.0</td>\n",
       "      <td>LONGFELLOW</td>\n",
       "      <td>5.0</td>\n",
       "      <td>ST. CLAIR</td>\n",
       "      <td>DETROIT</td>\n",
       "      <td>MI</td>\n",
       "      <td>USA</td>\n",
       "      <td>9-1-36(a)</td>\n",
       "      <td>Failure of owner to obtain certificate of comp...</td>\n",
       "      <td>Not responsible by City Dismissal</td>\n",
       "      <td>250.0</td>\n",
       "      <td>0.0</td>\n",
       "      <td>0.0</td>\n",
       "      <td>0.0</td>\n",
       "      <td>0.0</td>\n",
       "      <td>0.0</td>\n",
       "      <td>0.0</td>\n",
       "      <td>NaN</td>\n",
       "    </tr>\n",
       "    <tr>\n",
       "      <th>22093</th>\n",
       "      <td>Buildings, Safety Engineering &amp; Env Department</td>\n",
       "      <td>Sims, Martinzie</td>\n",
       "      <td>2449.0</td>\n",
       "      <td>CHURCHILL</td>\n",
       "      <td>7449.0</td>\n",
       "      <td>CHURCHILL</td>\n",
       "      <td>DETROIT</td>\n",
       "      <td>MI</td>\n",
       "      <td>USA</td>\n",
       "      <td>9-1-36(a)</td>\n",
       "      <td>Failure of owner to obtain certificate of comp...</td>\n",
       "      <td>Not responsible by Dismissal</td>\n",
       "      <td>250.0</td>\n",
       "      <td>0.0</td>\n",
       "      <td>0.0</td>\n",
       "      <td>0.0</td>\n",
       "      <td>0.0</td>\n",
       "      <td>0.0</td>\n",
       "      <td>0.0</td>\n",
       "      <td>NaN</td>\n",
       "    </tr>\n",
       "  </tbody>\n",
       "</table>\n",
       "</div>"
      ],
      "text/plain": [
       "                                              agency_name   inspector_name  \\\n",
       "ticket_id                                                                    \n",
       "22062      Buildings, Safety Engineering & Env Department  Sims, Martinzie   \n",
       "22084      Buildings, Safety Engineering & Env Department  Sims, Martinzie   \n",
       "22093      Buildings, Safety Engineering & Env Department  Sims, Martinzie   \n",
       "\n",
       "           violation_street_number violation_street_name  \\\n",
       "ticket_id                                                  \n",
       "22062                       1449.0            LONGFELLOW   \n",
       "22084                       1441.0            LONGFELLOW   \n",
       "22093                       2449.0             CHURCHILL   \n",
       "\n",
       "           mailing_address_str_number mailing_address_str_name     city state  \\\n",
       "ticket_id                                                                       \n",
       "22062                         23658.0                 P.O. BOX  DETROIT    MI   \n",
       "22084                             5.0                ST. CLAIR  DETROIT    MI   \n",
       "22093                          7449.0                CHURCHILL  DETROIT    MI   \n",
       "\n",
       "          country violation_code  \\\n",
       "ticket_id                          \n",
       "22062         USA      9-1-36(a)   \n",
       "22084         USA      9-1-36(a)   \n",
       "22093         USA      9-1-36(a)   \n",
       "\n",
       "                                       violation_description  \\\n",
       "ticket_id                                                      \n",
       "22062      Failure of owner to obtain certificate of comp...   \n",
       "22084      Failure of owner to obtain certificate of comp...   \n",
       "22093      Failure of owner to obtain certificate of comp...   \n",
       "\n",
       "                                 disposition  fine_amount  admin_fee  \\\n",
       "ticket_id                                                              \n",
       "22062           Not responsible by Dismissal        250.0        0.0   \n",
       "22084      Not responsible by City Dismissal        250.0        0.0   \n",
       "22093           Not responsible by Dismissal        250.0        0.0   \n",
       "\n",
       "           state_fee  late_fee  discount_amount  clean_up_cost  \\\n",
       "ticket_id                                                        \n",
       "22062            0.0       0.0              0.0            0.0   \n",
       "22084            0.0       0.0              0.0            0.0   \n",
       "22093            0.0       0.0              0.0            0.0   \n",
       "\n",
       "           judgment_amount  compliance  \n",
       "ticket_id                               \n",
       "22062                  0.0         NaN  \n",
       "22084                  0.0         NaN  \n",
       "22093                  0.0         NaN  "
      ]
     },
     "execution_count": 43,
     "metadata": {},
     "output_type": "execute_result"
    }
   ],
   "source": [
    "X_test.index = X_test['ticket_id']\n",
    "X_test = X_test[X.columns.values]\n",
    "X_test.head(3)"
   ]
  },
  {
   "cell_type": "code",
   "execution_count": 44,
   "metadata": {},
   "outputs": [
    {
     "data": {
      "text/plain": [
       "agency_name                       0\n",
       "inspector_name                    0\n",
       "violation_street_number           0\n",
       "violation_street_name             0\n",
       "mailing_address_str_number        0\n",
       "mailing_address_str_name          0\n",
       "city                              0\n",
       "state                             0\n",
       "country                           0\n",
       "violation_code                    0\n",
       "violation_description             0\n",
       "disposition                       0\n",
       "fine_amount                       0\n",
       "admin_fee                         0\n",
       "state_fee                         0\n",
       "late_fee                          0\n",
       "discount_amount                   0\n",
       "clean_up_cost                     0\n",
       "judgment_amount                   0\n",
       "compliance                    90426\n",
       "dtype: int64"
      ]
     },
     "execution_count": 44,
     "metadata": {},
     "output_type": "execute_result"
    }
   ],
   "source": [
    "X_test.mailing_address_str_number.fillna(value=np.random.choice(X_test.mailing_address_str_number.values),inplace=True)\n",
    "X_test.state.fillna(value=X_test.state.value_counts().keys()[0],inplace=True)\n",
    "X_test.mailing_address_str_name.fillna(value=X_test.mailing_address_str_name.value_counts().keys()[0],inplace=True)\n",
    "X_test.fine_amount.fillna(value=X_test.fine_amount.min(),inplace=True)\n",
    "X_test.isnull().sum()"
   ]
  },
  {
   "cell_type": "code",
   "execution_count": 45,
   "metadata": {},
   "outputs": [
    {
     "name": "stderr",
     "output_type": "stream",
     "text": [
      "100%|█████████████████████████████████████████████████████████████████████████████████████████████████████████████████████████| 90426/90426 [00:06<00:00, 14259.22it/s]\n"
     ]
    }
   ],
   "source": [
    "for f in cat_feat:\n",
    "    if f != 'violation_description':\n",
    "        X_test[f] = preprocess_feat(X_test[f])\n",
    "X_test['violation_description'] = preprocess_text(X_test['violation_description'])\n",
    "X_test = X_test.drop(labels='compliance',axis=1)"
   ]
  },
  {
   "cell_type": "code",
   "execution_count": 46,
   "metadata": {},
   "outputs": [],
   "source": [
    "y = X['compliance'].values\n",
    "X = X.drop(labels='compliance',axis=1)"
   ]
  },
  {
   "cell_type": "code",
   "execution_count": 47,
   "metadata": {},
   "outputs": [
    {
     "data": {
      "text/plain": [
       "agency_name                   0\n",
       "inspector_name                0\n",
       "violation_street_number       0\n",
       "violation_street_name         0\n",
       "mailing_address_str_number    0\n",
       "mailing_address_str_name      0\n",
       "city                          0\n",
       "state                         0\n",
       "country                       0\n",
       "violation_code                0\n",
       "violation_description         0\n",
       "disposition                   0\n",
       "fine_amount                   0\n",
       "admin_fee                     0\n",
       "state_fee                     0\n",
       "late_fee                      0\n",
       "discount_amount               0\n",
       "clean_up_cost                 0\n",
       "judgment_amount               0\n",
       "dtype: int64"
      ]
     },
     "execution_count": 47,
     "metadata": {},
     "output_type": "execute_result"
    }
   ],
   "source": [
    "df_test.index = df_test['ticket_id']\n",
    "df_test = df_test[X.columns.values]\n",
    "df_test.mailing_address_str_number.fillna(value=np.random.choice(df_test.mailing_address_str_number.values),inplace=True)\n",
    "# df_test.state.fillna(value=df_test.state.value_counts().keys()[0],inplace=True)\n",
    "df_test.state.fillna(method='ffill',inplace=True)\n",
    "df_test.mailing_address_str_name.fillna(value=df_test.mailing_address_str_name.value_counts().keys()[0],inplace=True)\n",
    "df_test.city.fillna(value=df_test.city.value_counts().keys()[0],inplace=True)\n",
    "df_test.isnull().sum()"
   ]
  },
  {
   "cell_type": "code",
   "execution_count": 48,
   "metadata": {},
   "outputs": [
    {
     "name": "stderr",
     "output_type": "stream",
     "text": [
      "100%|█████████████████████████████████████████████████████████████████████████████████████████████████████████████████████████| 61001/61001 [00:05<00:00, 11934.73it/s]\n"
     ]
    },
    {
     "data": {
      "text/html": [
       "<div>\n",
       "<style scoped>\n",
       "    .dataframe tbody tr th:only-of-type {\n",
       "        vertical-align: middle;\n",
       "    }\n",
       "\n",
       "    .dataframe tbody tr th {\n",
       "        vertical-align: top;\n",
       "    }\n",
       "\n",
       "    .dataframe thead th {\n",
       "        text-align: right;\n",
       "    }\n",
       "</style>\n",
       "<table border=\"1\" class=\"dataframe\">\n",
       "  <thead>\n",
       "    <tr style=\"text-align: right;\">\n",
       "      <th></th>\n",
       "      <th>agency_name</th>\n",
       "      <th>inspector_name</th>\n",
       "      <th>violation_street_number</th>\n",
       "      <th>violation_street_name</th>\n",
       "      <th>mailing_address_str_number</th>\n",
       "      <th>mailing_address_str_name</th>\n",
       "      <th>city</th>\n",
       "      <th>state</th>\n",
       "      <th>country</th>\n",
       "      <th>violation_code</th>\n",
       "      <th>violation_description</th>\n",
       "      <th>disposition</th>\n",
       "      <th>fine_amount</th>\n",
       "      <th>admin_fee</th>\n",
       "      <th>state_fee</th>\n",
       "      <th>late_fee</th>\n",
       "      <th>discount_amount</th>\n",
       "      <th>clean_up_cost</th>\n",
       "      <th>judgment_amount</th>\n",
       "    </tr>\n",
       "    <tr>\n",
       "      <th>ticket_id</th>\n",
       "      <th></th>\n",
       "      <th></th>\n",
       "      <th></th>\n",
       "      <th></th>\n",
       "      <th></th>\n",
       "      <th></th>\n",
       "      <th></th>\n",
       "      <th></th>\n",
       "      <th></th>\n",
       "      <th></th>\n",
       "      <th></th>\n",
       "      <th></th>\n",
       "      <th></th>\n",
       "      <th></th>\n",
       "      <th></th>\n",
       "      <th></th>\n",
       "      <th></th>\n",
       "      <th></th>\n",
       "      <th></th>\n",
       "    </tr>\n",
       "  </thead>\n",
       "  <tbody>\n",
       "    <tr>\n",
       "      <th>284932</th>\n",
       "      <td>department_of_public_works</td>\n",
       "      <td>granberry__aisha_b</td>\n",
       "      <td>10041.0</td>\n",
       "      <td>roseberry</td>\n",
       "      <td>141</td>\n",
       "      <td>roseberry</td>\n",
       "      <td>detroit</td>\n",
       "      <td>mi</td>\n",
       "      <td>usa</td>\n",
       "      <td>22261</td>\n",
       "      <td>failure secure city private solid waste collec...</td>\n",
       "      <td>responsible_by_default</td>\n",
       "      <td>200.0</td>\n",
       "      <td>20.0</td>\n",
       "      <td>10.0</td>\n",
       "      <td>20.0</td>\n",
       "      <td>0.0</td>\n",
       "      <td>0.0</td>\n",
       "      <td>250.0</td>\n",
       "    </tr>\n",
       "    <tr>\n",
       "      <th>285362</th>\n",
       "      <td>department_of_public_works</td>\n",
       "      <td>lusk__gertrina</td>\n",
       "      <td>18520.0</td>\n",
       "      <td>evergreen</td>\n",
       "      <td>19136</td>\n",
       "      <td>glastonbury</td>\n",
       "      <td>detroit</td>\n",
       "      <td>mi</td>\n",
       "      <td>usa</td>\n",
       "      <td>22288_b_</td>\n",
       "      <td>allowing bulk solid waste lie accumulate premises</td>\n",
       "      <td>responsible_by_default</td>\n",
       "      <td>1000.0</td>\n",
       "      <td>20.0</td>\n",
       "      <td>10.0</td>\n",
       "      <td>100.0</td>\n",
       "      <td>0.0</td>\n",
       "      <td>0.0</td>\n",
       "      <td>1130.0</td>\n",
       "    </tr>\n",
       "    <tr>\n",
       "      <th>285361</th>\n",
       "      <td>department_of_public_works</td>\n",
       "      <td>lusk__gertrina</td>\n",
       "      <td>18520.0</td>\n",
       "      <td>evergreen</td>\n",
       "      <td>19136</td>\n",
       "      <td>glastonbury</td>\n",
       "      <td>detroit</td>\n",
       "      <td>mi</td>\n",
       "      <td>usa</td>\n",
       "      <td>22243</td>\n",
       "      <td>improper placement courville container collect...</td>\n",
       "      <td>responsible_by_default</td>\n",
       "      <td>100.0</td>\n",
       "      <td>20.0</td>\n",
       "      <td>10.0</td>\n",
       "      <td>10.0</td>\n",
       "      <td>0.0</td>\n",
       "      <td>0.0</td>\n",
       "      <td>140.0</td>\n",
       "    </tr>\n",
       "  </tbody>\n",
       "</table>\n",
       "</div>"
      ],
      "text/plain": [
       "                          agency_name      inspector_name  \\\n",
       "ticket_id                                                   \n",
       "284932     department_of_public_works  granberry__aisha_b   \n",
       "285362     department_of_public_works      lusk__gertrina   \n",
       "285361     department_of_public_works      lusk__gertrina   \n",
       "\n",
       "           violation_street_number violation_street_name  \\\n",
       "ticket_id                                                  \n",
       "284932                     10041.0             roseberry   \n",
       "285362                     18520.0             evergreen   \n",
       "285361                     18520.0             evergreen   \n",
       "\n",
       "          mailing_address_str_number mailing_address_str_name     city state  \\\n",
       "ticket_id                                                                      \n",
       "284932                           141                roseberry  detroit    mi   \n",
       "285362                         19136              glastonbury  detroit    mi   \n",
       "285361                         19136              glastonbury  detroit    mi   \n",
       "\n",
       "          country violation_code  \\\n",
       "ticket_id                          \n",
       "284932        usa          22261   \n",
       "285362        usa       22288_b_   \n",
       "285361        usa          22243   \n",
       "\n",
       "                                       violation_description  \\\n",
       "ticket_id                                                      \n",
       "284932     failure secure city private solid waste collec...   \n",
       "285362     allowing bulk solid waste lie accumulate premises   \n",
       "285361     improper placement courville container collect...   \n",
       "\n",
       "                      disposition  fine_amount  admin_fee  state_fee  \\\n",
       "ticket_id                                                              \n",
       "284932     responsible_by_default        200.0       20.0       10.0   \n",
       "285362     responsible_by_default       1000.0       20.0       10.0   \n",
       "285361     responsible_by_default        100.0       20.0       10.0   \n",
       "\n",
       "           late_fee  discount_amount  clean_up_cost  judgment_amount  \n",
       "ticket_id                                                             \n",
       "284932         20.0              0.0            0.0            250.0  \n",
       "285362        100.0              0.0            0.0           1130.0  \n",
       "285361         10.0              0.0            0.0            140.0  "
      ]
     },
     "execution_count": 48,
     "metadata": {},
     "output_type": "execute_result"
    }
   ],
   "source": [
    "for f in cat_feat:\n",
    "    if f != 'violation_description':\n",
    "        df_test[f] = preprocess_feat(df_test[f])\n",
    "        \n",
    "df_test['violation_description'] = preprocess_text(df_test['violation_description'])\n",
    "df_test.head(3)"
   ]
  },
  {
   "cell_type": "markdown",
   "metadata": {},
   "source": [
    "### Encoding Categorical fetures"
   ]
  },
  {
   "cell_type": "code",
   "execution_count": 49,
   "metadata": {},
   "outputs": [
    {
     "name": "stdout",
     "output_type": "stream",
     "text": [
      "(119907, 19) (119907,)\n",
      "(39970, 19) (39970,)\n",
      "(90426, 19)\n"
     ]
    }
   ],
   "source": [
    "X_tr, X_cv, y_tr, y_cv = train_test_split(X, y, random_state = 0)\n",
    "print(X_tr.shape,y_tr.shape)\n",
    "print(X_cv.shape,y_cv.shape)\n",
    "print(X_test.shape)"
   ]
  },
  {
   "cell_type": "code",
   "execution_count": 50,
   "metadata": {},
   "outputs": [],
   "source": [
    "# Label Encoding\n",
    "# for f in cat_feat:\n",
    "#     if f != 'violation_description':\n",
    "#         le_tr = LabelEncoder().fit(X_tr[f])\n",
    "#         X_tr[f] = le_tr.transform(X_tr[f])\n",
    "#         le_cv = LabelEncoder().fit(X_cv[f])\n",
    "#         X_cv[f] = le_cv.transform(X_cv[f])\n",
    "#         le_te = LabelEncoder().fit(X_test[f])\n",
    "#         X_test[f] = le_te.transform(X_test[f])"
   ]
  },
  {
   "cell_type": "code",
   "execution_count": 51,
   "metadata": {},
   "outputs": [
    {
     "name": "stdout",
     "output_type": "stream",
     "text": [
      "(119907, 265)\n"
     ]
    }
   ],
   "source": [
    "# # Encoding violation_description using tfidf\n",
    "tf_vect = TfidfVectorizer(min_df=10)\n",
    "tf_vect.fit(X_tr['violation_description'].values)\n",
    "X_tr_vd_tf = tf_vect.transform(X_tr['violation_description'].values)\n",
    "X_cv_vd_tf = tf_vect.transform(X_cv['violation_description'].values)\n",
    "X_test_vd_tf = tf_vect.transform(X_test['violation_description'].values)\n",
    "df_test_vd_tf = tf_vect.transform(df_test['violation_description'].values)\n",
    "print(X_tr_vd_tf.shape)"
   ]
  },
  {
   "cell_type": "code",
   "execution_count": 52,
   "metadata": {},
   "outputs": [],
   "source": [
    "vect = CountVectorizer()\n",
    "vect.fit(X_tr['agency_name'].values)\n",
    "train_cat_an = vect.transform(X_tr['agency_name'].values)\n",
    "cv_cat_an = vect.transform(X_cv['agency_name'].values)\n",
    "test_cat_an = vect.transform(X_test['agency_name'].values)\n",
    "dftest_cat_an = vect.transform(df_test['agency_name'].values)"
   ]
  },
  {
   "cell_type": "code",
   "execution_count": 53,
   "metadata": {},
   "outputs": [],
   "source": [
    "vect1 = CountVectorizer()\n",
    "vect1.fit(X_tr['inspector_name'].values)\n",
    "train_cat_in = vect1.transform(X_tr['inspector_name'].values)\n",
    "cv_cat_in = vect1.transform(X_cv['inspector_name'].values)\n",
    "test_cat_in = vect1.transform(X_test['inspector_name'].values)\n",
    "dftest_cat_an = vect.transform(df_test['agency_name'].values)"
   ]
  },
  {
   "cell_type": "code",
   "execution_count": 54,
   "metadata": {},
   "outputs": [],
   "source": [
    "vect2 = CountVectorizer()\n",
    "vect2.fit(X_tr['violation_street_name'].values)\n",
    "train_cat_vsn = vect2.transform(X_tr['violation_street_name'].values)\n",
    "cv_cat_vsn = vect2.transform(X_cv['violation_street_name'].values)\n",
    "test_cat_vsn = vect2.transform(X_test['violation_street_name'].values)\n",
    "dftest_cat_an = vect.transform(df_test['agency_name'].values)"
   ]
  },
  {
   "cell_type": "code",
   "execution_count": 55,
   "metadata": {},
   "outputs": [],
   "source": [
    "vect3 = CountVectorizer()\n",
    "vect3.fit(X_tr['mailing_address_str_name'].values)\n",
    "train_cat_masn = vect3.transform(X_tr['mailing_address_str_name'].values)\n",
    "cv_cat_masn = vect3.transform(X_cv['mailing_address_str_name'].values)\n",
    "test_cat_masn = vect3.transform(X_test['mailing_address_str_name'].values)\n",
    "dftest_cat_an = vect.transform(df_test['agency_name'].values)"
   ]
  },
  {
   "cell_type": "code",
   "execution_count": 56,
   "metadata": {},
   "outputs": [],
   "source": [
    "vect4 = CountVectorizer()\n",
    "vect4.fit(X_tr['disposition'].values)\n",
    "train_cat_dis = vect4.transform(X_tr['disposition'].values)\n",
    "cv_cat_dis = vect4.transform(X_cv['disposition'].values)\n",
    "test_cat_dis = vect4.transform(X_test['disposition'].values)\n",
    "dftest_cat_an = vect.transform(df_test['agency_name'].values)"
   ]
  },
  {
   "cell_type": "code",
   "execution_count": 57,
   "metadata": {},
   "outputs": [],
   "source": [
    "vect5 = CountVectorizer()\n",
    "vect5.fit(X_tr['state'].values)\n",
    "train_cat_state = vect5.transform(X_tr['state'].values)\n",
    "cv_cat_state = vect5.transform(X_cv['state'].values)\n",
    "test_cat_state = vect5.transform(X_test['state'].values)\n",
    "dftest_cat_an = vect.transform(df_test['agency_name'].values)"
   ]
  },
  {
   "cell_type": "code",
   "execution_count": 58,
   "metadata": {},
   "outputs": [],
   "source": [
    "vect6 = CountVectorizer()\n",
    "vect6.fit(X_tr['city'].values)\n",
    "train_cat_city = vect6.transform(X_tr['city'].values)\n",
    "cv_cat_city = vect6.transform(X_cv['city'].values)\n",
    "test_cat_city = vect6.transform(X_test['city'].values)\n",
    "dftest_cat_an = vect.transform(df_test['agency_name'].values)"
   ]
  },
  {
   "cell_type": "code",
   "execution_count": 59,
   "metadata": {},
   "outputs": [],
   "source": [
    "vect7 = CountVectorizer()\n",
    "vect7.fit(X_tr['violation_code'].values)\n",
    "train_cat_vc = vect7.transform(X_tr['violation_code'].values)\n",
    "cv_cat_vc = vect7.transform(X_cv['violation_code'].values)\n",
    "test_cat_vc = vect7.transform(X_test['violation_code'].values)\n",
    "dftest_cat_an = vect.transform(df_test['agency_name'].values)"
   ]
  },
  {
   "cell_type": "code",
   "execution_count": 60,
   "metadata": {},
   "outputs": [],
   "source": [
    "vect8 = CountVectorizer()\n",
    "vect8.fit(X_tr['country'].values)\n",
    "train_cat_c = vect8.transform(X_tr['country'].values)\n",
    "cv_cat_c = vect8.transform(X_cv['country'].values)\n",
    "test_cat_c = vect8.transform(X_test['country'].values)\n",
    "dftest_cat_an = vect.transform(df_test['agency_name'].values)"
   ]
  },
  {
   "cell_type": "code",
   "execution_count": 61,
   "metadata": {},
   "outputs": [],
   "source": [
    "normalizer = Normalizer()\n",
    "\n",
    "normalised_x = {}\n",
    "normalised_y = {}\n",
    "normalised_z = {}\n",
    "normalised_test = {}\n",
    "for f in num_feat:\n",
    "    normalizer.fit(X_tr[f].values.reshape(1,-1))\n",
    "    normalised_x[f] = normalizer.transform(X_tr[f].values.reshape(1,-1))\n",
    "    normalised_y[f] = normalizer.transform(X_cv[f].values.reshape(1,-1))\n",
    "    normalised_z[f] = normalizer.transform(X_test[f].values.reshape(1,-1))\n",
    "#     normalised_test[f] = normalizer.transform(df_test[f].values.reshape(1,-1))"
   ]
  },
  {
   "cell_type": "code",
   "execution_count": 62,
   "metadata": {},
   "outputs": [
    {
     "name": "stdout",
     "output_type": "stream",
     "text": [
      "(119907, 24495) (119907,)\n"
     ]
    }
   ],
   "source": [
    "X_tr = hstack((X_tr_vd_tf, train_cat_an,train_cat_in,train_cat_vsn,train_cat_masn,train_cat_dis,train_cat_state,train_cat_city,\n",
    "               train_cat_vc,train_cat_c,normalised_x[num_feat[0]].T,normalised_x[num_feat[1]].T,normalised_x[num_feat[2]].T,\n",
    "               normalised_x[num_feat[3]].T,normalised_x[num_feat[4]].T,normalised_x[num_feat[5]].T,normalised_x[num_feat[6]].T,\n",
    "               normalised_x[num_feat[7]].T,normalised_x[num_feat[8]].T)).tocsr()\n",
    "\n",
    "print(X_tr.shape,y_tr.shape)"
   ]
  },
  {
   "cell_type": "code",
   "execution_count": 63,
   "metadata": {},
   "outputs": [
    {
     "name": "stdout",
     "output_type": "stream",
     "text": [
      "(39970, 24495) (39970,)\n"
     ]
    }
   ],
   "source": [
    "X_cv = hstack((X_cv_vd_tf, cv_cat_an,cv_cat_in,cv_cat_vsn,cv_cat_masn,cv_cat_dis,cv_cat_state,cv_cat_city,\n",
    "               cv_cat_vc,cv_cat_c,normalised_y[num_feat[0]].T,normalised_y[num_feat[1]].T,normalised_y[num_feat[2]].T,\n",
    "               normalised_y[num_feat[3]].T,normalised_y[num_feat[4]].T,normalised_y[num_feat[5]].T,normalised_y[num_feat[6]].T,\n",
    "               normalised_y[num_feat[7]].T,normalised_y[num_feat[8]].T)).tocsr()\n",
    "\n",
    "\n",
    "print(X_cv.shape,y_cv.shape)"
   ]
  },
  {
   "cell_type": "code",
   "execution_count": 64,
   "metadata": {},
   "outputs": [
    {
     "name": "stdout",
     "output_type": "stream",
     "text": [
      "(90426, 24495)\n"
     ]
    }
   ],
   "source": [
    "X_te = hstack((X_test_vd_tf, test_cat_an,test_cat_in,test_cat_vsn,test_cat_masn,test_cat_dis,test_cat_state,test_cat_city,\n",
    "               test_cat_vc,test_cat_c,normalised_z[num_feat[0]].T,normalised_z[num_feat[1]].T,normalised_z[num_feat[2]].T,\n",
    "               normalised_z[num_feat[3]].T,normalised_z[num_feat[4]].T,normalised_z[num_feat[5]].T,normalised_z[num_feat[6]].T,\n",
    "               normalised_z[num_feat[7]].T,normalised_z[num_feat[8]].T)).tocsr()\n",
    "print(X_te.shape)"
   ]
  },
  {
   "cell_type": "code",
   "execution_count": 66,
   "metadata": {},
   "outputs": [],
   "source": [
    "X_test = hstack((df_test_vd_tf, dftest_cat_an,dftest_cat_in,dftest_cat_vsn,dftest_cat_masn,dftest_cat_dis,dftest_cat_state,\n",
    "                dftest_cat_city,dftest_cat_vc,dftest_cat_c,normalised_test[num_feat[0]].T,normalised_test[num_feat[1]].T,\n",
    "                normalised_test[num_feat[2]].T,normalised_test[num_feat[3]].T,normalised_test[num_feat[4]].T,\n",
    "                normalised_test[num_feat[5]].T,normalised_test[num_feat[6]].T,normalised_test[num_feat[7]].T,normalised_test[num_feat[8]].T).tocsr()\n",
    "\n",
    "print(X_test.shape)"
   ]
  },
  {
   "cell_type": "code",
   "execution_count": 67,
   "metadata": {},
   "outputs": [
    {
     "data": {
      "text/plain": [
       "RandomForestClassifier(bootstrap=True, ccp_alpha=0.0, class_weight=None,\n",
       "                       criterion='gini', max_depth=5, max_features='auto',\n",
       "                       max_leaf_nodes=None, max_samples=None,\n",
       "                       min_impurity_decrease=0.0, min_impurity_split=None,\n",
       "                       min_samples_leaf=1, min_samples_split=2,\n",
       "                       min_weight_fraction_leaf=0.0, n_estimators=10,\n",
       "                       n_jobs=None, oob_score=False, random_state=None,\n",
       "                       verbose=0, warm_start=False)"
      ]
     },
     "execution_count": 67,
     "metadata": {},
     "output_type": "execute_result"
    }
   ],
   "source": [
    "rf = RandomForestClassifier(n_estimators = 10, max_depth = 5)\n",
    "rf.fit(X_tr, y_tr)"
   ]
  },
  {
   "cell_type": "code",
   "execution_count": 75,
   "metadata": {},
   "outputs": [
    {
     "data": {
      "image/png": "[encoded data removed]",
      "text/plain": [
       "<Figure size 1080x360 with 4 Axes>"
      ]
     },
     "metadata": {
      "needs_background": "light"
     },
     "output_type": "display_data"
    }
   ],
   "source": [
    "params = {'n_estimators': [9, 10, 11], 'max_depth': [1,2,3,4,5] }  # n_est = 10 and max_depth = 5\n",
    "    \n",
    "# default metric to optimize over grid parameters: accuracy\n",
    "clf = GridSearchCV(rf, params, cv=3, scoring='roc_auc',return_train_score=True)\n",
    "clf.fit(X_tr, y_tr)\n",
    "results = pd.DataFrame.from_dict(clf.cv_results_)\n",
    "r = results.pivot(index='param_max_depth', columns='param_n_estimators',values=['mean_train_score','mean_test_score'])\n",
    "fig, ax = plt.subplots(1,2, figsize=(15,5))\n",
    "sns.heatmap(r.mean_train_score, annot = True, fmt='.4g', ax=ax[0])\n",
    "sns.heatmap(r.mean_test_score, annot = True, fmt='.4g', ax=ax[1])\n",
    "ax[0].set_title('Training Performance')\n",
    "ax[1].set_title('Test Performance')\n",
    "plt.show()"
   ]
  },
  {
   "cell_type": "code",
   "execution_count": 76,
   "metadata": {},
   "outputs": [
    {
     "name": "stdout",
     "output_type": "stream",
     "text": [
      "0.5\n"
     ]
    }
   ],
   "source": [
    "y_score = rf.predict(X_cv)    \n",
    "fpr, tpr, thres = roc_curve(y_cv, y_score)\n",
    "\n",
    "roc_auc = auc(fpr, tpr) \n",
    "print(roc_auc)"
   ]
  },
  {
   "cell_type": "code",
   "execution_count": 85,
   "metadata": {},
   "outputs": [
    {
     "data": {
      "text/plain": [
       "({'max_depth': 4, 'n_estimators': 10}, 0.7507126217621017)"
      ]
     },
     "execution_count": 85,
     "metadata": {},
     "output_type": "execute_result"
    }
   ],
   "source": [
    "clf.best_params_,clf.best_score_"
   ]
  },
  {
   "cell_type": "code",
   "execution_count": 93,
   "metadata": {},
   "outputs": [
    {
     "data": {
      "image/png": "[encoded data removed]",
      "text/plain": [
       "<Figure size 432x288 with 1 Axes>"
      ]
     },
     "metadata": {
      "needs_background": "light"
     },
     "output_type": "display_data"
    }
   ],
   "source": [
    "rfclf = RandomForestClassifier(max_depth=clf.best_params_['max_depth'], n_estimators=clf.best_params_['n_estimators'])\n",
    "# rfclf = RandomForestClassifier(n_estimators = 10, max_depth = 5)\n",
    "rfclf.fit(X_tr, y_tr)\n",
    "# roc_auc_score(y_true, y_score) the 2nd parameter should be probability estimates of the positive class\n",
    "# not the predicted outputs\n",
    "\n",
    "y_train_pred = rfclf.predict_proba(X_tr)    \n",
    "y_cv_pred = rfclf.predict_proba(X_cv)\n",
    "\n",
    "train_fpr, train_tpr, tr_thresholds = roc_curve(y_tr, y_train_pred[:,1])\n",
    "test_fpr, test_tpr, te_thresholds = roc_curve(y_cv, y_cv_pred[:,1])\n",
    "\n",
    "plt.plot(train_fpr, train_tpr, label=\"train AUC =\"+str(auc(train_fpr, train_tpr)))\n",
    "plt.plot(test_fpr, test_tpr, label=\"test AUC =\"+str(auc(test_fpr, test_tpr)))\n",
    "plt.legend()\n",
    "plt.xlabel(\"Hyperparameter\")\n",
    "plt.ylabel(\"AUC\")\n",
    "plt.title(\"ERROR PLOTS\")\n",
    "plt.grid()\n",
    "plt.show()"
   ]
  },
  {
   "cell_type": "code",
   "execution_count": 88,
   "metadata": {},
   "outputs": [],
   "source": [
    "# we are writing our own function for predict, with defined thresould\n",
    "# we will pick a threshold that will give the least fpr\n",
    "def find_best_threshold(threshould, fpr, tpr):\n",
    "    t = threshould[np.argmax(tpr*(1-fpr))]\n",
    "    # (tpr*(1-fpr)) will be maximum if your fpr is very low and tpr is very high\n",
    "    print(\"the maximum value of tpr*(1-fpr)\", max(tpr*(1-fpr)), \"for threshold\", np.round(t,3))\n",
    "    return t\n",
    "\n",
    "def predict_with_best_t(proba, threshould):\n",
    "    predictions = []\n",
    "    for i in proba:\n",
    "        if i>=threshould:\n",
    "            predictions.append(1)\n",
    "        else:\n",
    "            predictions.append(0)\n",
    "    return predictions"
   ]
  },
  {
   "cell_type": "code",
   "execution_count": 72,
   "metadata": {},
   "outputs": [
    {
     "name": "stdout",
     "output_type": "stream",
     "text": [
      "the maximum value of tpr*(1-fpr) 0.29971366780771935 for threshold 0.073\n"
     ]
    },
    {
     "data": {
      "text/plain": [
       "<sklearn.metrics._plot.confusion_matrix.ConfusionMatrixDisplay at 0x14f1413cda0>"
      ]
     },
     "execution_count": 72,
     "metadata": {},
     "output_type": "execute_result"
    },
    {
     "data": {
      "image/png": "[encoded data removed]",
      "text/plain": [
       "<Figure size 432x288 with 2 Axes>"
      ]
     },
     "metadata": {
      "needs_background": "light"
     },
     "output_type": "display_data"
    },
    {
     "data": {
      "image/png": "[encoded data removed]",
      "text/plain": [
       "<Figure size 432x288 with 2 Axes>"
      ]
     },
     "metadata": {
      "needs_background": "light"
     },
     "output_type": "display_data"
    }
   ],
   "source": [
    "best_t = find_best_threshold(tr_thresholds, train_fpr, train_tpr)\n",
    "\n",
    "#finding confusion matrices for train and test data\n",
    "cm_train = ConfusionMatrixDisplay(confusion_matrix(y_tr,predict_with_best_t(y_train_pred[:,1],best_t)),[0,1])\n",
    "cm_test = ConfusionMatrixDisplay(confusion_matrix(y_cv,predict_with_best_t(y_cv_pred[:,1],best_t)),[0,1])\n",
    "\n",
    "cm_train.plot()\n",
    "cm_test.plot()"
   ]
  },
  {
   "cell_type": "code",
   "execution_count": 73,
   "metadata": {
    "colab": {},
    "colab_type": "code",
    "id": "xRuS66ze9_pZ"
   },
   "outputs": [
    {
     "data": {
      "text/plain": [
       "array([[0.9340501 , 0.0659499 ],\n",
       "       [0.9340501 , 0.0659499 ],\n",
       "       [0.9340501 , 0.0659499 ],\n",
       "       ...,\n",
       "       [0.93643849, 0.06356151],\n",
       "       [0.93643849, 0.06356151],\n",
       "       [0.93643849, 0.06356151]])"
      ]
     },
     "execution_count": 73,
     "metadata": {},
     "output_type": "execute_result"
    }
   ],
   "source": [
    "X_predict = rfclf.predict_proba(X_te)\n",
    "X_predict"
   ]
  },
  {
   "cell_type": "markdown",
   "metadata": {
    "colab": {},
    "colab_type": "code",
    "id": "OYuKotKg9_qP"
   },
   "source": [
    "| Vectorizer | Model | Hyper parameters | AUC |\n",
    "| :----------: |:-----:|:---------------:|:----:|\n",
    "|TFIDF\t     |DecisionTree|max_depth=10,min_samples_split=500\t  |0.651|\n",
    "|TFIDF W2V\t |DecisionTree|max_depth=10,min_samples_split=500   |0.633|\n",
    "|Featurized TFIDF\t |LogisticRegression|C=1   |0.703|"
   ]
  }
 ],
 "metadata": {
  "colab": {
   "name": "Assignment+4.ipynb",
   "provenance": []
  },
  "coursera": {
   "course_slug": "python-machine-learning",
   "graded_item_id": "nNS8l",
   "launcher_item_id": "yWWk7",
   "part_id": "w8BSS"
  },
  "kernelspec": {
   "display_name": "Python 3",
   "language": "python",
   "name": "python3"
  },
  "language_info": {
   "codemirror_mode": {
    "name": "ipython",
    "version": 3
   },
   "file_extension": ".py",
   "mimetype": "text/x-python",
   "name": "python",
   "nbconvert_exporter": "python",
   "pygments_lexer": "ipython3",
   "version": "3.7.3"
  }
 },
 "nbformat": 4,
 "nbformat_minor": 1
}
